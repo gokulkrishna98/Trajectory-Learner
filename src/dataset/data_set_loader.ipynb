{
 "cells": [
  {
   "cell_type": "code",
   "execution_count": 2,
   "metadata": {},
   "outputs": [],
   "source": [
    "import torch\n",
    "from torch.utils.data import Dataset, DataLoader \n",
    "\n",
    "import matplotlib\n",
    "import numpy as np\n",
    "\n",
    "import os"
   ]
  },
  {
   "cell_type": "code",
   "execution_count": 3,
   "metadata": {},
   "outputs": [],
   "source": [
    "\"\"\"\n",
    "Arguments\n",
    "data_dir: Absolute path to the dataset directory.\n",
    "states_filename: Name of states dataset file.\n",
    "actions_filename: Name of the actions dataset file.\n",
    "s_transform: Transformation for states.\n",
    "a_transform: Transformation for actions.\n",
    "\n",
    "---------------------------------------------------------------------------------\n",
    "what does it contain ?\n",
    "states is a numpy array - (num of data points, trajectory_length, 2, 65, 65)\n",
    "actions is a numpy array - (num of data_points, trajectory_length, 2)\n",
    "transforms should be image transformations\n",
    "\n",
    "sample implementation can be seen at : ./src/dataset/data_set_loader.ipynb\n",
    "\n",
    "TODO: check if agent and environment needs the same transformation or different.\n",
    "\"\"\"\n",
    "class TrajectoryDataset(Dataset):\n",
    "    def __init__(self, data_dir, \n",
    "                 states_filename, \n",
    "                 actions_filename, \n",
    "                 s_transform=None, \n",
    "                 a_transform=None):\n",
    "        self.states = np.load(f\"{data_dir}/{states_filename}\", mmap_mode=\"r\")\n",
    "        self.actions = np.load(f\"{data_dir}/{actions_filename}\")\n",
    "        self.state_transform = s_transform\n",
    "        self.action_transform = a_transform\n",
    "    \n",
    "    def __len__(self):\n",
    "        return self.states.shape[0]\n",
    "    \n",
    "    def __getitem__(self, index):\n",
    "        state = self.states[index]\n",
    "        action = self.actions[index]\n",
    "        \n",
    "        if self.state_transform:\n",
    "            for i in range(state.shape[0]):\n",
    "                state[i] = self.state_transform(state[i])\n",
    "        \n",
    "        if self.action_transform:\n",
    "            for i in range(action[i].shape[0]):\n",
    "                action[i] = self.action_transform(action[i])\n",
    "        \n",
    "        return state, action"
   ]
  },
  {
   "cell_type": "code",
   "execution_count": 4,
   "metadata": {},
   "outputs": [],
   "source": [
    "traj_dataset = TrajectoryDataset(\n",
    "    data_dir = \"./\",\n",
    "    states_filename = \"states.npy\",\n",
    "    actions_filename = \"actions.npy\",\n",
    "    s_transform = None,\n",
    "    a_transform = None\n",
    ")"
   ]
  },
  {
   "cell_type": "code",
   "execution_count": 6,
   "metadata": {},
   "outputs": [
    {
     "name": "stdout",
     "output_type": "stream",
     "text": [
      "15000\n",
      "torch.Size([17, 2, 65, 65])\n",
      "torch.Size([16, 2])\n",
      "a device: cuda:0\n",
      "s device: cuda:0\n"
     ]
    },
    {
     "name": "stderr",
     "output_type": "stream",
     "text": [
      "/home/gokul/miniconda3/envs/ml/lib/python3.12/site-packages/torch/utils/data/_utils/collate.py:70: UserWarning: The given NumPy array is not writable, and PyTorch does not support non-writable tensors. This means writing to this tensor will result in undefined behavior. You may want to copy the array to protect its data or make it writable before converting it to a tensor. This type of warning will be suppressed for the rest of this program. (Triggered internally at ../torch/csrc/utils/tensor_numpy.cpp:206.)\n",
      "  return torch.as_tensor(data)\n"
     ]
    }
   ],
   "source": [
    "\n",
    "device = torch.device(\"cuda\" if torch.cuda.is_available() else \"cpu\")\n",
    "\n",
    "dataloader = DataLoader(traj_dataset, batch_size=None, shuffle=True)\n",
    "print(len(dataloader))\n",
    "flag = False\n",
    "for batch in dataloader:\n",
    "    s, a = batch\n",
    "    if(not flag):\n",
    "        print(s.shape)\n",
    "        print(a.shape)\n",
    "    \n",
    "    s = s.to(device)\n",
    "    a = a.to(device)\n",
    "\n",
    "    if(not flag):\n",
    "        print(f\"a device: {a.device}\")\n",
    "        print(f\"s device: {s.device}\")\n",
    "\n",
    "    flag = True"
   ]
  }
 ],
 "metadata": {
  "kernelspec": {
   "display_name": "ml",
   "language": "python",
   "name": "python3"
  },
  "language_info": {
   "codemirror_mode": {
    "name": "ipython",
    "version": 3
   },
   "file_extension": ".py",
   "mimetype": "text/x-python",
   "name": "python",
   "nbconvert_exporter": "python",
   "pygments_lexer": "ipython3",
   "version": "3.12.7"
  }
 },
 "nbformat": 4,
 "nbformat_minor": 2
}
